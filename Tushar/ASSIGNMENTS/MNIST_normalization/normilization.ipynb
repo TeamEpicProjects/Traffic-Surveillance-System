{
  "nbformat": 4,
  "nbformat_minor": 2,
  "metadata": {
    "colab": {
      "name": "Sess6_finalCode.ipynb",
      "provenance": [],
      "collapsed_sections": [],
      "include_colab_link": true
    },
    "kernelspec": {
      "name": "python3",
      "display_name": "Python 3.6.13 64-bit ('gputest': conda)"
    },
    "language_info": {
      "name": "python",
      "version": "3.6.13",
      "mimetype": "text/x-python",
      "codemirror_mode": {
        "name": "ipython",
        "version": 3
      },
      "pygments_lexer": "ipython3",
      "nbconvert_exporter": "python",
      "file_extension": ".py"
    },
    "accelerator": "GPU",
    "interpreter": {
      "hash": "f24149f67bf5bc774cb26c2488c6fbfcff0ef4e6b5f98b925fbf9097b92639df"
    }
  },
  "cells": [
    {
      "cell_type": "markdown",
      "source": [
        "## You are making 3 versions of your notebook\r\n",
        "\r\n",
        "- Network with Group Normalization + L1\r\n",
        "- Network with Layer Normalization + L2\r\n",
        "- Network with L1 + L2 + BN"
      ],
      "metadata": {}
    },
    {
      "cell_type": "code",
      "execution_count": 1,
      "source": [
        "import model\r\n",
        "import torch\r\n",
        "import torch.optim as optim\r\n",
        "from torchvision import datasets, transforms\r\n",
        "import torch.nn.functional as F\r\n",
        "from tqdm import tqdm\r\n",
        "from torchsummary import summary\r\n",
        "\r\n",
        "import matplotlib.pyplot as plt\r\n",
        "import numpy as np"
      ],
      "outputs": [],
      "metadata": {
        "id": "CUTvp-lilzJ-"
      }
    },
    {
      "cell_type": "code",
      "execution_count": 2,
      "source": [
        "# For training set\r\n",
        "train = datasets.MNIST('../data', train=True, download=True, #create directory and give the path, True for training set, download if dataset is not available in local storage\r\n",
        "                    transform=transforms.Compose([\r\n",
        "                        transforms.ColorJitter(brightness=0.4, contrast=0.4, saturation=0.40, hue=0.1),\r\n",
        "                        transforms.ToTensor(), # Convert image to tensor\r\n",
        "                        transforms.Normalize((0.1307,), (0.3081,)),# Normalize image with mean and standard deviation\r\n",
        "                        transforms.RandomRotation((-5.0, 5.0), fill=(0.1307,)),\r\n",
        "                        ])\r\n",
        "                    )\r\n",
        "\r\n",
        "\r\n",
        "# For testing set\r\n",
        "test = datasets.MNIST('../data', train=False,  # create the directory for testing dataset, train is false for testing \r\n",
        "                   transform=transforms.Compose([ \r\n",
        "                        transforms.ToTensor(), # Convert image to tensor\r\n",
        "                        transforms.Normalize((0.1307,), (0.3081,)) # Normalize the data\r\n",
        "                        ])\r\n",
        "                   )"
      ],
      "outputs": [
        {
          "output_type": "stream",
          "name": "stdout",
          "text": [
            "Downloading http://yann.lecun.com/exdb/mnist/train-images-idx3-ubyte.gz to ../data\\MNIST\\raw\\train-images-idx3-ubyte.gz\n"
          ]
        },
        {
          "output_type": "stream",
          "name": "stderr",
          "text": [
            "9920512it [00:00, 12747665.79it/s]                             \n"
          ]
        },
        {
          "output_type": "stream",
          "name": "stdout",
          "text": [
            "Extracting ../data\\MNIST\\raw\\train-images-idx3-ubyte.gz to ../data\\MNIST\\raw\n",
            "Downloading http://yann.lecun.com/exdb/mnist/train-labels-idx1-ubyte.gz to ../data\\MNIST\\raw\\train-labels-idx1-ubyte.gz\n"
          ]
        },
        {
          "output_type": "stream",
          "name": "stderr",
          "text": [
            "32768it [00:00, 382276.08it/s]\n"
          ]
        },
        {
          "output_type": "stream",
          "name": "stdout",
          "text": [
            "Extracting ../data\\MNIST\\raw\\train-labels-idx1-ubyte.gz to ../data\\MNIST\\raw\n",
            "Downloading http://yann.lecun.com/exdb/mnist/t10k-images-idx3-ubyte.gz to ../data\\MNIST\\raw\\t10k-images-idx3-ubyte.gz\n"
          ]
        },
        {
          "output_type": "stream",
          "name": "stderr",
          "text": [
            "1654784it [00:00, 5619481.98it/s]                            \n"
          ]
        },
        {
          "output_type": "stream",
          "name": "stdout",
          "text": [
            "Extracting ../data\\MNIST\\raw\\t10k-images-idx3-ubyte.gz to ../data\\MNIST\\raw\n",
            "Downloading http://yann.lecun.com/exdb/mnist/t10k-labels-idx1-ubyte.gz to ../data\\MNIST\\raw\\t10k-labels-idx1-ubyte.gz\n"
          ]
        },
        {
          "output_type": "stream",
          "name": "stderr",
          "text": [
            "8192it [00:00, 104661.17it/s]\n",
            "C:\\Users\\TUSHAR\\anaconda3\\envs\\gputest\\lib\\site-packages\\torchvision\\datasets\\mnist.py:480: UserWarning: The given NumPy array is not writeable, and PyTorch does not support non-writeable tensors. This means you can write to the underlying (supposedly non-writeable) NumPy array using the tensor. You may want to copy the array to protect its data or make it writeable before converting it to a tensor. This type of warning will be suppressed for the rest of this program. (Triggered internally at  ..\\torch\\csrc\\utils\\tensor_numpy.cpp:141.)\n",
            "  return torch.from_numpy(parsed.astype(m[2], copy=False)).view(*s)\n"
          ]
        },
        {
          "output_type": "stream",
          "name": "stdout",
          "text": [
            "Extracting ../data\\MNIST\\raw\\t10k-labels-idx1-ubyte.gz to ../data\\MNIST\\raw\n",
            "Processing...\n",
            "Done!\n"
          ]
        }
      ],
      "metadata": {
        "id": "QnBCGSpymBN9"
      }
    },
    {
      "cell_type": "code",
      "execution_count": 3,
      "source": [
        "SEED = 1\r\n",
        "BATCH_SIZE=64\r\n",
        "\r\n",
        "# CUDA?\r\n",
        "cuda = torch.cuda.is_available()\r\n",
        "print(\"CUDA Available:\", cuda)\r\n",
        "\r\n",
        "# For reproducibility\r\n",
        "torch.manual_seed(SEED)\r\n",
        "\r\n",
        "if cuda:\r\n",
        "    torch.cuda.manual_seed(SEED)\r\n",
        "\r\n",
        "# dataloader arguments - something you'll fetch these from cmdprmt\r\n",
        "dataloader_args = dict(shuffle=True, batch_size=BATCH_SIZE, num_workers=2, pin_memory=True) if cuda else dict(shuffle=True, batch_size=64)\r\n",
        "\r\n",
        "# train dataloader\r\n",
        "train_loader = torch.utils.data.DataLoader(train, **dataloader_args)\r\n",
        "\r\n",
        "# test dataloader\r\n",
        "test_loader = torch.utils.data.DataLoader(test, **dataloader_args)"
      ],
      "outputs": [
        {
          "output_type": "stream",
          "name": "stdout",
          "text": [
            "CUDA Available: True\n"
          ]
        }
      ],
      "metadata": {
        "colab": {
          "base_uri": "https://localhost:8080/"
        },
        "id": "rMfe-DTCnIq7",
        "outputId": "dac60d81-352e-4942-9eff-c3381dcb479a"
      }
    },
    {
      "cell_type": "code",
      "execution_count": 4,
      "source": [
        "figure = plt.figure(figsize=(8,6))\r\n",
        "dataiter = iter(train_loader)\r\n",
        "images, labels = dataiter.next()\r\n",
        "num_of_images = 30\r\n",
        "for index in range(1, num_of_images + 1):\r\n",
        "    plt.subplot(8, 12, index)\r\n",
        "    plt.axis('off')\r\n",
        "    plt.imshow(images[index].numpy().squeeze(), cmap='gray_r')"
      ],
      "outputs": [
        {
          "output_type": "display_data",
          "data": {
            "image/png": "[encoded data removed]",
            "text/plain": [
              "<Figure size 576x432 with 30 Axes>"
            ]
          },
          "metadata": {
            "needs_background": "light"
          }
        }
      ],
      "metadata": {
        "id": "B6C5CN8mojjs"
      }
    },
    {
      "cell_type": "code",
      "execution_count": 5,
      "source": [
        "use_cuda = torch.cuda.is_available()\r\n",
        "device = torch.device(\"cuda\" if use_cuda else \"cpu\")\r\n",
        "print(device)\r\n",
        "model_gn = model.Net(norm='gn').to(device)\r\n",
        "summary(model_gn, input_size=(1, 28, 28))"
      ],
      "outputs": [
        {
          "output_type": "stream",
          "name": "stdout",
          "text": [
            "cuda\n",
            "=================================================================\n",
            "Layer (type:depth-idx)                   Param #\n",
            "=================================================================\n",
            "├─Sequential: 1-1                        --\n",
            "|    └─Conv2d: 2-1                       72\n",
            "|    └─GroupNorm: 2-2                    16\n",
            "|    └─ReLU: 2-3                         --\n",
            "|    └─Dropout: 2-4                      --\n",
            "├─Sequential: 1-2                        --\n",
            "|    └─Conv2d: 2-5                       1,152\n",
            "|    └─GroupNorm: 2-6                    32\n",
            "|    └─ReLU: 2-7                         --\n",
            "|    └─Dropout: 2-8                      --\n",
            "├─MaxPool2d: 1-3                         --\n",
            "├─Sequential: 1-4                        --\n",
            "|    └─Conv2d: 2-9                       128\n",
            "|    └─GroupNorm: 2-10                   16\n",
            "|    └─ReLU: 2-11                        --\n",
            "├─Sequential: 1-5                        --\n",
            "|    └─Conv2d: 2-12                      864\n",
            "|    └─GroupNorm: 2-13                   24\n",
            "|    └─ReLU: 2-14                        --\n",
            "|    └─Dropout: 2-15                     --\n",
            "|    └─Conv2d: 2-16                      1,728\n",
            "|    └─GroupNorm: 2-17                   32\n",
            "|    └─ReLU: 2-18                        --\n",
            "|    └─Dropout: 2-19                     --\n",
            "|    └─Conv2d: 2-20                      2,880\n",
            "|    └─GroupNorm: 2-21                   40\n",
            "|    └─ReLU: 2-22                        --\n",
            "|    └─Dropout: 2-23                     --\n",
            "├─Sequential: 1-6                        --\n",
            "|    └─AvgPool2d: 2-24                   --\n",
            "├─Sequential: 1-7                        --\n",
            "|    └─Conv2d: 2-25                      320\n",
            "|    └─GroupNorm: 2-26                   32\n",
            "|    └─ReLU: 2-27                        --\n",
            "|    └─Dropout: 2-28                     --\n",
            "|    └─Conv2d: 2-29                      160\n",
            "=================================================================\n",
            "Total params: 7,496\n",
            "Trainable params: 7,496\n",
            "Non-trainable params: 0\n",
            "=================================================================\n"
          ]
        },
        {
          "output_type": "execute_result",
          "data": {
            "text/plain": [
              "=================================================================\n",
              "Layer (type:depth-idx)                   Param #\n",
              "=================================================================\n",
              "├─Sequential: 1-1                        --\n",
              "|    └─Conv2d: 2-1                       72\n",
              "|    └─GroupNorm: 2-2                    16\n",
              "|    └─ReLU: 2-3                         --\n",
              "|    └─Dropout: 2-4                      --\n",
              "├─Sequential: 1-2                        --\n",
              "|    └─Conv2d: 2-5                       1,152\n",
              "|    └─GroupNorm: 2-6                    32\n",
              "|    └─ReLU: 2-7                         --\n",
              "|    └─Dropout: 2-8                      --\n",
              "├─MaxPool2d: 1-3                         --\n",
              "├─Sequential: 1-4                        --\n",
              "|    └─Conv2d: 2-9                       128\n",
              "|    └─GroupNorm: 2-10                   16\n",
              "|    └─ReLU: 2-11                        --\n",
              "├─Sequential: 1-5                        --\n",
              "|    └─Conv2d: 2-12                      864\n",
              "|    └─GroupNorm: 2-13                   24\n",
              "|    └─ReLU: 2-14                        --\n",
              "|    └─Dropout: 2-15                     --\n",
              "|    └─Conv2d: 2-16                      1,728\n",
              "|    └─GroupNorm: 2-17                   32\n",
              "|    └─ReLU: 2-18                        --\n",
              "|    └─Dropout: 2-19                     --\n",
              "|    └─Conv2d: 2-20                      2,880\n",
              "|    └─GroupNorm: 2-21                   40\n",
              "|    └─ReLU: 2-22                        --\n",
              "|    └─Dropout: 2-23                     --\n",
              "├─Sequential: 1-6                        --\n",
              "|    └─AvgPool2d: 2-24                   --\n",
              "├─Sequential: 1-7                        --\n",
              "|    └─Conv2d: 2-25                      320\n",
              "|    └─GroupNorm: 2-26                   32\n",
              "|    └─ReLU: 2-27                        --\n",
              "|    └─Dropout: 2-28                     --\n",
              "|    └─Conv2d: 2-29                      160\n",
              "=================================================================\n",
              "Total params: 7,496\n",
              "Trainable params: 7,496\n",
              "Non-trainable params: 0\n",
              "================================================================="
            ]
          },
          "metadata": {},
          "execution_count": 5
        }
      ],
      "metadata": {
        "id": "tSHH0fL50V9d",
        "colab": {
          "base_uri": "https://localhost:8080/"
        },
        "outputId": "ea9c407a-c7ff-4629-e3ee-bc85b186423c"
      }
    },
    {
      "cell_type": "code",
      "execution_count": 6,
      "source": [
        "summary(model.Net(norm='ln').to(device), input_size=(1, 28, 28))"
      ],
      "outputs": [
        {
          "output_type": "stream",
          "name": "stdout",
          "text": [
            "=================================================================\n",
            "Layer (type:depth-idx)                   Param #\n",
            "=================================================================\n",
            "├─Sequential: 1-1                        --\n",
            "|    └─Conv2d: 2-1                       72\n",
            "|    └─GroupNorm: 2-2                    16\n",
            "|    └─ReLU: 2-3                         --\n",
            "|    └─Dropout: 2-4                      --\n",
            "├─Sequential: 1-2                        --\n",
            "|    └─Conv2d: 2-5                       1,152\n",
            "|    └─GroupNorm: 2-6                    32\n",
            "|    └─ReLU: 2-7                         --\n",
            "|    └─Dropout: 2-8                      --\n",
            "├─MaxPool2d: 1-3                         --\n",
            "├─Sequential: 1-4                        --\n",
            "|    └─Conv2d: 2-9                       128\n",
            "|    └─GroupNorm: 2-10                   16\n",
            "|    └─ReLU: 2-11                        --\n",
            "├─Sequential: 1-5                        --\n",
            "|    └─Conv2d: 2-12                      864\n",
            "|    └─GroupNorm: 2-13                   24\n",
            "|    └─ReLU: 2-14                        --\n",
            "|    └─Dropout: 2-15                     --\n",
            "|    └─Conv2d: 2-16                      1,728\n",
            "|    └─GroupNorm: 2-17                   32\n",
            "|    └─ReLU: 2-18                        --\n",
            "|    └─Dropout: 2-19                     --\n",
            "|    └─Conv2d: 2-20                      2,880\n",
            "|    └─GroupNorm: 2-21                   40\n",
            "|    └─ReLU: 2-22                        --\n",
            "|    └─Dropout: 2-23                     --\n",
            "├─Sequential: 1-6                        --\n",
            "|    └─AvgPool2d: 2-24                   --\n",
            "├─Sequential: 1-7                        --\n",
            "|    └─Conv2d: 2-25                      320\n",
            "|    └─GroupNorm: 2-26                   32\n",
            "|    └─ReLU: 2-27                        --\n",
            "|    └─Dropout: 2-28                     --\n",
            "|    └─Conv2d: 2-29                      160\n",
            "=================================================================\n",
            "Total params: 7,496\n",
            "Trainable params: 7,496\n",
            "Non-trainable params: 0\n",
            "=================================================================\n"
          ]
        },
        {
          "output_type": "execute_result",
          "data": {
            "text/plain": [
              "=================================================================\n",
              "Layer (type:depth-idx)                   Param #\n",
              "=================================================================\n",
              "├─Sequential: 1-1                        --\n",
              "|    └─Conv2d: 2-1                       72\n",
              "|    └─GroupNorm: 2-2                    16\n",
              "|    └─ReLU: 2-3                         --\n",
              "|    └─Dropout: 2-4                      --\n",
              "├─Sequential: 1-2                        --\n",
              "|    └─Conv2d: 2-5                       1,152\n",
              "|    └─GroupNorm: 2-6                    32\n",
              "|    └─ReLU: 2-7                         --\n",
              "|    └─Dropout: 2-8                      --\n",
              "├─MaxPool2d: 1-3                         --\n",
              "├─Sequential: 1-4                        --\n",
              "|    └─Conv2d: 2-9                       128\n",
              "|    └─GroupNorm: 2-10                   16\n",
              "|    └─ReLU: 2-11                        --\n",
              "├─Sequential: 1-5                        --\n",
              "|    └─Conv2d: 2-12                      864\n",
              "|    └─GroupNorm: 2-13                   24\n",
              "|    └─ReLU: 2-14                        --\n",
              "|    └─Dropout: 2-15                     --\n",
              "|    └─Conv2d: 2-16                      1,728\n",
              "|    └─GroupNorm: 2-17                   32\n",
              "|    └─ReLU: 2-18                        --\n",
              "|    └─Dropout: 2-19                     --\n",
              "|    └─Conv2d: 2-20                      2,880\n",
              "|    └─GroupNorm: 2-21                   40\n",
              "|    └─ReLU: 2-22                        --\n",
              "|    └─Dropout: 2-23                     --\n",
              "├─Sequential: 1-6                        --\n",
              "|    └─AvgPool2d: 2-24                   --\n",
              "├─Sequential: 1-7                        --\n",
              "|    └─Conv2d: 2-25                      320\n",
              "|    └─GroupNorm: 2-26                   32\n",
              "|    └─ReLU: 2-27                        --\n",
              "|    └─Dropout: 2-28                     --\n",
              "|    └─Conv2d: 2-29                      160\n",
              "=================================================================\n",
              "Total params: 7,496\n",
              "Trainable params: 7,496\n",
              "Non-trainable params: 0\n",
              "================================================================="
            ]
          },
          "metadata": {},
          "execution_count": 6
        }
      ],
      "metadata": {
        "id": "vBadfa5Ss4G7",
        "colab": {
          "base_uri": "https://localhost:8080/"
        },
        "outputId": "508b287b-72aa-4c02-8dd3-5c333b403f77"
      }
    },
    {
      "cell_type": "code",
      "execution_count": 7,
      "source": [
        "summary(model.Net(norm='bn').to(device), input_size=(1, 28, 28))"
      ],
      "outputs": [
        {
          "output_type": "stream",
          "name": "stdout",
          "text": [
            "=================================================================\n",
            "Layer (type:depth-idx)                   Param #\n",
            "=================================================================\n",
            "├─Sequential: 1-1                        --\n",
            "|    └─Conv2d: 2-1                       72\n",
            "|    └─BatchNorm2d: 2-2                  16\n",
            "|    └─ReLU: 2-3                         --\n",
            "|    └─Dropout: 2-4                      --\n",
            "├─Sequential: 1-2                        --\n",
            "|    └─Conv2d: 2-5                       1,152\n",
            "|    └─BatchNorm2d: 2-6                  32\n",
            "|    └─ReLU: 2-7                         --\n",
            "|    └─Dropout: 2-8                      --\n",
            "├─MaxPool2d: 1-3                         --\n",
            "├─Sequential: 1-4                        --\n",
            "|    └─Conv2d: 2-9                       128\n",
            "|    └─BatchNorm2d: 2-10                 16\n",
            "|    └─ReLU: 2-11                        --\n",
            "├─Sequential: 1-5                        --\n",
            "|    └─Conv2d: 2-12                      864\n",
            "|    └─BatchNorm2d: 2-13                 24\n",
            "|    └─ReLU: 2-14                        --\n",
            "|    └─Dropout: 2-15                     --\n",
            "|    └─Conv2d: 2-16                      1,728\n",
            "|    └─BatchNorm2d: 2-17                 32\n",
            "|    └─ReLU: 2-18                        --\n",
            "|    └─Dropout: 2-19                     --\n",
            "|    └─Conv2d: 2-20                      2,880\n",
            "|    └─BatchNorm2d: 2-21                 40\n",
            "|    └─ReLU: 2-22                        --\n",
            "|    └─Dropout: 2-23                     --\n",
            "├─Sequential: 1-6                        --\n",
            "|    └─AvgPool2d: 2-24                   --\n",
            "├─Sequential: 1-7                        --\n",
            "|    └─Conv2d: 2-25                      320\n",
            "|    └─BatchNorm2d: 2-26                 32\n",
            "|    └─ReLU: 2-27                        --\n",
            "|    └─Dropout: 2-28                     --\n",
            "|    └─Conv2d: 2-29                      160\n",
            "=================================================================\n",
            "Total params: 7,496\n",
            "Trainable params: 7,496\n",
            "Non-trainable params: 0\n",
            "=================================================================\n"
          ]
        },
        {
          "output_type": "execute_result",
          "data": {
            "text/plain": [
              "=================================================================\n",
              "Layer (type:depth-idx)                   Param #\n",
              "=================================================================\n",
              "├─Sequential: 1-1                        --\n",
              "|    └─Conv2d: 2-1                       72\n",
              "|    └─BatchNorm2d: 2-2                  16\n",
              "|    └─ReLU: 2-3                         --\n",
              "|    └─Dropout: 2-4                      --\n",
              "├─Sequential: 1-2                        --\n",
              "|    └─Conv2d: 2-5                       1,152\n",
              "|    └─BatchNorm2d: 2-6                  32\n",
              "|    └─ReLU: 2-7                         --\n",
              "|    └─Dropout: 2-8                      --\n",
              "├─MaxPool2d: 1-3                         --\n",
              "├─Sequential: 1-4                        --\n",
              "|    └─Conv2d: 2-9                       128\n",
              "|    └─BatchNorm2d: 2-10                 16\n",
              "|    └─ReLU: 2-11                        --\n",
              "├─Sequential: 1-5                        --\n",
              "|    └─Conv2d: 2-12                      864\n",
              "|    └─BatchNorm2d: 2-13                 24\n",
              "|    └─ReLU: 2-14                        --\n",
              "|    └─Dropout: 2-15                     --\n",
              "|    └─Conv2d: 2-16                      1,728\n",
              "|    └─BatchNorm2d: 2-17                 32\n",
              "|    └─ReLU: 2-18                        --\n",
              "|    └─Dropout: 2-19                     --\n",
              "|    └─Conv2d: 2-20                      2,880\n",
              "|    └─BatchNorm2d: 2-21                 40\n",
              "|    └─ReLU: 2-22                        --\n",
              "|    └─Dropout: 2-23                     --\n",
              "├─Sequential: 1-6                        --\n",
              "|    └─AvgPool2d: 2-24                   --\n",
              "├─Sequential: 1-7                        --\n",
              "|    └─Conv2d: 2-25                      320\n",
              "|    └─BatchNorm2d: 2-26                 32\n",
              "|    └─ReLU: 2-27                        --\n",
              "|    └─Dropout: 2-28                     --\n",
              "|    └─Conv2d: 2-29                      160\n",
              "=================================================================\n",
              "Total params: 7,496\n",
              "Trainable params: 7,496\n",
              "Non-trainable params: 0\n",
              "================================================================="
            ]
          },
          "metadata": {},
          "execution_count": 7
        }
      ],
      "metadata": {
        "id": "TaiG0XvQxESZ",
        "colab": {
          "base_uri": "https://localhost:8080/"
        },
        "outputId": "7f1f5905-816d-4618-ade3-02065ffbc74d"
      }
    },
    {
      "cell_type": "code",
      "execution_count": 8,
      "source": [
        "def train(model, device, train_loader, optimizer, l1, scheduler):\r\n",
        "  model.train()\r\n",
        "  pbar = tqdm(train_loader)\r\n",
        "  correct = 0\r\n",
        "  processed = 0\r\n",
        "  num_loops = 0\r\n",
        "  train_loss = 0\r\n",
        "  for batch_idx, (data, target) in enumerate(pbar):\r\n",
        "    # get samples\r\n",
        "    data, target = data.to(device), target.to(device)\r\n",
        "\r\n",
        "    # Init\r\n",
        "    optimizer.zero_grad()\r\n",
        "    # In PyTorch, we need to set the gradients to zero before starting to do backpropragation because PyTorch \r\n",
        "    # accumulates the gradients on subsequent backward passes. Because of this, when you start your training loop, \r\n",
        "    # ideally you should zero out the gradients so that you do the parameter update correctly.\r\n",
        "\r\n",
        "    # Predict\r\n",
        "    y_pred = model(data)\r\n",
        "\r\n",
        "    # Calculate loss\r\n",
        "    loss = F.nll_loss(y_pred, target)\r\n",
        "    l1 = 0\r\n",
        "    lambda_l1 = 0.01\r\n",
        "    if l1:\r\n",
        "      for p in model.parameter():\r\n",
        "        l1 = l1 + p.abs().sum()\r\n",
        "    \r\n",
        "    loss = loss + lambda_l1*l1\r\n",
        "\r\n",
        "    # Backpropagation\r\n",
        "    loss.backward()\r\n",
        "    optimizer.step()\r\n",
        "\r\n",
        "    train_loss += loss.item()\r\n",
        "\r\n",
        "    # Update LR\r\n",
        "    scheduler.step()\r\n",
        "    \r\n",
        "    # Update pbar-tqdm    \r\n",
        "    pred = y_pred.argmax(dim=1, keepdim=True)  # get the index of the max log-probability\r\n",
        "    correct += pred.eq(target.view_as(pred)).sum().item()\r\n",
        "    processed += len(data)\r\n",
        "\r\n",
        "    num_loops += 1\r\n",
        "    pbar.set_description(desc= f'Batch_id={batch_idx} Loss={train_loss/num_loops:.5f} Accuracy={100*correct/processed:0.2f}')\r\n",
        "  \r\n",
        "  return 100*correct/processed, train_loss/num_loops\r\n",
        "\r\n",
        "\r\n",
        "def test(model, device, test_loader):\r\n",
        "    model.eval()\r\n",
        "    test_loss = 0\r\n",
        "    correct = 0\r\n",
        "    with torch.no_grad():\r\n",
        "        for data, target in test_loader:\r\n",
        "            data, target = data.to(device), target.to(device)\r\n",
        "            output = model(data)\r\n",
        "            test_loss += F.nll_loss(output, target, reduction='sum').item()  # sum up batch loss\r\n",
        "            pred = output.argmax(dim=1, keepdim=True)  # get the index of the max log-probability\r\n",
        "            correct += pred.eq(target.view_as(pred)).sum().item()\r\n",
        "\r\n",
        "    test_loss /= len(test_loader.dataset)\r\n",
        "\r\n",
        "    print('\\nTest set: Average loss: {:.4f}, Accuracy: {}/{} ({:.2f}%)\\n'.format(\r\n",
        "        test_loss, correct, len(test_loader.dataset),\r\n",
        "        100. * correct / len(test_loader.dataset)))\r\n",
        "    \r\n",
        "    \r\n",
        "    return 100. * correct / len(test_loader.dataset), test_loss"
      ],
      "outputs": [],
      "metadata": {
        "id": "FL15NsBz0b75"
      }
    },
    {
      "cell_type": "code",
      "execution_count": 9,
      "source": [
        "def save_model(model, epoch, optimizer, name_exp):\r\n",
        "  state = {\r\n",
        "    'epoch': epoch,\r\n",
        "    'state_dict': model.state_dict(),\r\n",
        "    'optimizer': optimizer.state_dict()}\r\n",
        "  torch.save(state, name_exp+'.pt')"
      ],
      "outputs": [],
      "metadata": {
        "id": "8jpTSIvjCl3e"
      }
    },
    {
      "cell_type": "code",
      "execution_count": 10,
      "source": [
        "def fit(norm, NUM_EPOCHS=20, l1=False, l2=False, drop= 0.025, num_groups=4, exp_name='experiment'):\r\n",
        "  training_acc, training_loss, testing_acc, testing_loss = list(), list(), list(), list()\r\n",
        "  best_accuracy = 0\r\n",
        "  net =  model.Net(norm=norm, drop=drop, num_groups=num_groups).to(device)\r\n",
        "  if l2:\r\n",
        "    optimizer = optim.SGD(net.parameters(), lr=0.017, momentum=0.9, weight_decay=1e-4)\r\n",
        "  else:\r\n",
        "    optimizer = optim.SGD(net.parameters(), lr=0.017, momentum=0.9)\r\n",
        "  scheduler = optim.lr_scheduler.OneCycleLR(optimizer, max_lr=0.017, epochs=NUM_EPOCHS, steps_per_epoch=len(train_loader))\r\n",
        "\r\n",
        "  for epoch in range(1,NUM_EPOCHS+1):\r\n",
        "      print(\"EPOCH:\", epoch)\r\n",
        "      train_acc, train_loss = train(net, device, train_loader, optimizer, l1, scheduler)\r\n",
        "      test_acc, test_loss = test(net, device, test_loader)\r\n",
        "\r\n",
        "      if(test_acc > best_accuracy):\r\n",
        "        best_accuracy = test_acc\r\n",
        "        #Save this model\r\n",
        "        save_model(net, epoch, optimizer, exp_name)\r\n",
        "\r\n",
        "      training_acc.append(train_acc)\r\n",
        "      training_loss.append(train_loss)\r\n",
        "      testing_acc.append(test_acc)\r\n",
        "      testing_loss.append(test_loss)\r\n",
        "      \r\n",
        "  return net, (training_acc, training_loss, testing_acc, testing_loss)"
      ],
      "outputs": [],
      "metadata": {
        "id": "JIKaBvarkDAW"
      }
    },
    {
      "cell_type": "markdown",
      "source": [
        "# Model Version 1: \n",
        "Network with Group Normalization + L1"
      ],
      "metadata": {
        "id": "sX3KvLhUDQPq"
      }
    },
    {
      "cell_type": "code",
      "execution_count": 11,
      "source": [
        "exp_name = 'model_GN+L1'\r\n",
        "model_gn, history_gn = fit(norm='gn', NUM_EPOCHS=25, l1=True, exp_name=exp_name)\r\n",
        "\r\n",
        "#Load the best model for further evalution\r\n",
        "model_gn = model.Net(norm='gn').to(device)\r\n",
        "model_gn.load_state_dict(torch.load(exp_name+'.pt')['state_dict'])\r\n",
        "ep = torch.load(exp_name+'.pt')['epoch']\r\n",
        "print('Best Model loss=', history_gn[3][ep-1], \"Accuracy= \",  history_gn[2][ep-1])"
      ],
      "outputs": [
        {
          "output_type": "stream",
          "name": "stdout",
          "text": [
            "EPOCH: 1\n"
          ]
        },
        {
          "output_type": "stream",
          "name": "stderr",
          "text": [
            "Batch_id=937 Loss=1.18697 Accuracy=67.29: 100%|██████████| 938/938 [00:27<00:00, 34.40it/s]\n"
          ]
        },
        {
          "output_type": "stream",
          "name": "stdout",
          "text": [
            "\n",
            "Test set: Average loss: 0.2774, Accuracy: 9446/10000 (94.46%)\n",
            "\n",
            "EPOCH: 2\n"
          ]
        },
        {
          "output_type": "stream",
          "name": "stderr",
          "text": [
            "Batch_id=937 Loss=0.25115 Accuracy=93.26: 100%|██████████| 938/938 [00:25<00:00, 37.01it/s]\n"
          ]
        },
        {
          "output_type": "stream",
          "name": "stdout",
          "text": [
            "\n",
            "Test set: Average loss: 0.1386, Accuracy: 9622/10000 (96.22%)\n",
            "\n",
            "EPOCH: 3\n"
          ]
        },
        {
          "output_type": "stream",
          "name": "stderr",
          "text": [
            "Batch_id=937 Loss=0.14935 Accuracy=95.70: 100%|██████████| 938/938 [00:25<00:00, 37.30it/s]\n"
          ]
        },
        {
          "output_type": "stream",
          "name": "stdout",
          "text": [
            "\n",
            "Test set: Average loss: 0.1043, Accuracy: 9689/10000 (96.89%)\n",
            "\n",
            "EPOCH: 4\n"
          ]
        },
        {
          "output_type": "stream",
          "name": "stderr",
          "text": [
            "Batch_id=937 Loss=0.11744 Accuracy=96.59: 100%|██████████| 938/938 [00:25<00:00, 36.69it/s]\n"
          ]
        },
        {
          "output_type": "stream",
          "name": "stdout",
          "text": [
            "\n",
            "Test set: Average loss: 0.0596, Accuracy: 9826/10000 (98.26%)\n",
            "\n",
            "EPOCH: 5\n"
          ]
        },
        {
          "output_type": "stream",
          "name": "stderr",
          "text": [
            "Batch_id=937 Loss=0.09312 Accuracy=97.39: 100%|██████████| 938/938 [00:26<00:00, 35.87it/s]\n"
          ]
        },
        {
          "output_type": "stream",
          "name": "stdout",
          "text": [
            "\n",
            "Test set: Average loss: 0.0721, Accuracy: 9779/10000 (97.79%)\n",
            "\n",
            "EPOCH: 6\n"
          ]
        },
        {
          "output_type": "stream",
          "name": "stderr",
          "text": [
            "Batch_id=937 Loss=0.08563 Accuracy=97.56: 100%|██████████| 938/938 [00:25<00:00, 36.97it/s]\n"
          ]
        },
        {
          "output_type": "stream",
          "name": "stdout",
          "text": [
            "\n",
            "Test set: Average loss: 0.0625, Accuracy: 9814/10000 (98.14%)\n",
            "\n",
            "EPOCH: 7\n"
          ]
        },
        {
          "output_type": "stream",
          "name": "stderr",
          "text": [
            "Batch_id=937 Loss=0.07119 Accuracy=98.00: 100%|██████████| 938/938 [00:25<00:00, 36.59it/s]\n"
          ]
        },
        {
          "output_type": "stream",
          "name": "stdout",
          "text": [
            "\n",
            "Test set: Average loss: 0.0540, Accuracy: 9836/10000 (98.36%)\n",
            "\n",
            "EPOCH: 8\n"
          ]
        },
        {
          "output_type": "stream",
          "name": "stderr",
          "text": [
            "Batch_id=937 Loss=0.06464 Accuracy=98.20: 100%|██████████| 938/938 [00:25<00:00, 36.55it/s]\n"
          ]
        },
        {
          "output_type": "stream",
          "name": "stdout",
          "text": [
            "\n",
            "Test set: Average loss: 0.0438, Accuracy: 9874/10000 (98.74%)\n",
            "\n",
            "EPOCH: 9\n"
          ]
        },
        {
          "output_type": "stream",
          "name": "stderr",
          "text": [
            "Batch_id=937 Loss=0.06024 Accuracy=98.29: 100%|██████████| 938/938 [00:25<00:00, 36.54it/s]\n"
          ]
        },
        {
          "output_type": "stream",
          "name": "stdout",
          "text": [
            "\n",
            "Test set: Average loss: 0.0380, Accuracy: 9887/10000 (98.87%)\n",
            "\n",
            "EPOCH: 10\n"
          ]
        },
        {
          "output_type": "stream",
          "name": "stderr",
          "text": [
            "Batch_id=937 Loss=0.05842 Accuracy=98.31: 100%|██████████| 938/938 [00:25<00:00, 36.83it/s]\n"
          ]
        },
        {
          "output_type": "stream",
          "name": "stdout",
          "text": [
            "\n",
            "Test set: Average loss: 0.0474, Accuracy: 9863/10000 (98.63%)\n",
            "\n",
            "EPOCH: 11\n"
          ]
        },
        {
          "output_type": "stream",
          "name": "stderr",
          "text": [
            "Batch_id=937 Loss=0.04905 Accuracy=98.59: 100%|██████████| 938/938 [00:25<00:00, 36.58it/s]\n"
          ]
        },
        {
          "output_type": "stream",
          "name": "stdout",
          "text": [
            "\n",
            "Test set: Average loss: 0.0324, Accuracy: 9911/10000 (99.11%)\n",
            "\n",
            "EPOCH: 12\n"
          ]
        },
        {
          "output_type": "stream",
          "name": "stderr",
          "text": [
            "Batch_id=937 Loss=0.04686 Accuracy=98.64: 100%|██████████| 938/938 [00:25<00:00, 36.88it/s]\n"
          ]
        },
        {
          "output_type": "stream",
          "name": "stdout",
          "text": [
            "\n",
            "Test set: Average loss: 0.0366, Accuracy: 9891/10000 (98.91%)\n",
            "\n",
            "EPOCH: 13\n"
          ]
        },
        {
          "output_type": "stream",
          "name": "stderr",
          "text": [
            "Batch_id=937 Loss=0.04642 Accuracy=98.66: 100%|██████████| 938/938 [00:25<00:00, 36.57it/s]\n"
          ]
        },
        {
          "output_type": "stream",
          "name": "stdout",
          "text": [
            "\n",
            "Test set: Average loss: 0.0266, Accuracy: 9923/10000 (99.23%)\n",
            "\n",
            "EPOCH: 14\n"
          ]
        },
        {
          "output_type": "stream",
          "name": "stderr",
          "text": [
            "Batch_id=937 Loss=0.04516 Accuracy=98.73: 100%|██████████| 938/938 [00:25<00:00, 37.31it/s]\n"
          ]
        },
        {
          "output_type": "stream",
          "name": "stdout",
          "text": [
            "\n",
            "Test set: Average loss: 0.0353, Accuracy: 9893/10000 (98.93%)\n",
            "\n",
            "EPOCH: 15\n"
          ]
        },
        {
          "output_type": "stream",
          "name": "stderr",
          "text": [
            "Batch_id=937 Loss=0.04271 Accuracy=98.78: 100%|██████████| 938/938 [00:25<00:00, 36.74it/s]\n"
          ]
        },
        {
          "output_type": "stream",
          "name": "stdout",
          "text": [
            "\n",
            "Test set: Average loss: 0.0306, Accuracy: 9911/10000 (99.11%)\n",
            "\n",
            "EPOCH: 16\n"
          ]
        },
        {
          "output_type": "stream",
          "name": "stderr",
          "text": [
            "Batch_id=937 Loss=0.03989 Accuracy=98.85: 100%|██████████| 938/938 [00:25<00:00, 37.17it/s]\n"
          ]
        },
        {
          "output_type": "stream",
          "name": "stdout",
          "text": [
            "\n",
            "Test set: Average loss: 0.0294, Accuracy: 9913/10000 (99.13%)\n",
            "\n",
            "EPOCH: 17\n"
          ]
        },
        {
          "output_type": "stream",
          "name": "stderr",
          "text": [
            "Batch_id=937 Loss=0.03768 Accuracy=98.91: 100%|██████████| 938/938 [00:25<00:00, 36.97it/s]\n"
          ]
        },
        {
          "output_type": "stream",
          "name": "stdout",
          "text": [
            "\n",
            "Test set: Average loss: 0.0312, Accuracy: 9902/10000 (99.02%)\n",
            "\n",
            "EPOCH: 18\n"
          ]
        },
        {
          "output_type": "stream",
          "name": "stderr",
          "text": [
            "Batch_id=937 Loss=0.03387 Accuracy=99.03: 100%|██████████| 938/938 [00:25<00:00, 36.68it/s]\n"
          ]
        },
        {
          "output_type": "stream",
          "name": "stdout",
          "text": [
            "\n",
            "Test set: Average loss: 0.0316, Accuracy: 9913/10000 (99.13%)\n",
            "\n",
            "EPOCH: 19\n"
          ]
        },
        {
          "output_type": "stream",
          "name": "stderr",
          "text": [
            "Batch_id=937 Loss=0.02923 Accuracy=99.19: 100%|██████████| 938/938 [00:25<00:00, 36.51it/s]\n"
          ]
        },
        {
          "output_type": "stream",
          "name": "stdout",
          "text": [
            "\n",
            "Test set: Average loss: 0.0267, Accuracy: 9925/10000 (99.25%)\n",
            "\n",
            "EPOCH: 20\n"
          ]
        },
        {
          "output_type": "stream",
          "name": "stderr",
          "text": [
            "Batch_id=937 Loss=0.02850 Accuracy=99.19: 100%|██████████| 938/938 [00:25<00:00, 36.64it/s]\n"
          ]
        },
        {
          "output_type": "stream",
          "name": "stdout",
          "text": [
            "\n",
            "Test set: Average loss: 0.0260, Accuracy: 9921/10000 (99.21%)\n",
            "\n",
            "EPOCH: 21\n"
          ]
        },
        {
          "output_type": "stream",
          "name": "stderr",
          "text": [
            "Batch_id=937 Loss=0.02687 Accuracy=99.21: 100%|██████████| 938/938 [00:25<00:00, 36.67it/s]\n"
          ]
        },
        {
          "output_type": "stream",
          "name": "stdout",
          "text": [
            "\n",
            "Test set: Average loss: 0.0282, Accuracy: 9922/10000 (99.22%)\n",
            "\n",
            "EPOCH: 22\n"
          ]
        },
        {
          "output_type": "stream",
          "name": "stderr",
          "text": [
            "Batch_id=937 Loss=0.02274 Accuracy=99.37: 100%|██████████| 938/938 [00:25<00:00, 36.54it/s]\n"
          ]
        },
        {
          "output_type": "stream",
          "name": "stdout",
          "text": [
            "\n",
            "Test set: Average loss: 0.0237, Accuracy: 9936/10000 (99.36%)\n",
            "\n",
            "EPOCH: 23\n"
          ]
        },
        {
          "output_type": "stream",
          "name": "stderr",
          "text": [
            "Batch_id=937 Loss=0.02260 Accuracy=99.34: 100%|██████████| 938/938 [00:25<00:00, 36.95it/s]\n"
          ]
        },
        {
          "output_type": "stream",
          "name": "stdout",
          "text": [
            "\n",
            "Test set: Average loss: 0.0234, Accuracy: 9930/10000 (99.30%)\n",
            "\n",
            "EPOCH: 24\n"
          ]
        },
        {
          "output_type": "stream",
          "name": "stderr",
          "text": [
            "Batch_id=937 Loss=0.02043 Accuracy=99.43: 100%|██████████| 938/938 [00:25<00:00, 37.03it/s]\n"
          ]
        },
        {
          "output_type": "stream",
          "name": "stdout",
          "text": [
            "\n",
            "Test set: Average loss: 0.0238, Accuracy: 9930/10000 (99.30%)\n",
            "\n",
            "EPOCH: 25\n"
          ]
        },
        {
          "output_type": "stream",
          "name": "stderr",
          "text": [
            "Batch_id=937 Loss=0.01917 Accuracy=99.43: 100%|██████████| 938/938 [00:25<00:00, 36.40it/s]\n"
          ]
        },
        {
          "output_type": "stream",
          "name": "stdout",
          "text": [
            "\n",
            "Test set: Average loss: 0.0235, Accuracy: 9929/10000 (99.29%)\n",
            "\n",
            "Best Model loss= 0.02369926312426105 Accuracy=  99.36\n"
          ]
        }
      ],
      "metadata": {
        "id": "K0YxdfK07ZZT",
        "colab": {
          "base_uri": "https://localhost:8080/"
        },
        "outputId": "4fbc8995-05fb-41a7-fced-ebfef63ed6f7"
      }
    },
    {
      "cell_type": "markdown",
      "source": [
        "# Model Version 2: \n",
        "Network with Layer Normalization + L2"
      ],
      "metadata": {
        "id": "iw1s0tBUDXjq"
      }
    },
    {
      "cell_type": "code",
      "execution_count": 12,
      "source": [
        "exp_name = 'model_LN+L2'\r\n",
        "model_ln, history_ln = fit(norm='ln', NUM_EPOCHS=25, l2=True, exp_name=exp_name)\r\n",
        "\r\n",
        "#Load the best model for further evalution\r\n",
        "model_ln = model.Net(norm='ln').to(device)\r\n",
        "model_ln.load_state_dict(torch.load(exp_name+'.pt')['state_dict'])\r\n",
        "ep = torch.load(exp_name+'.pt')['epoch']\r\n",
        "print('Best Model loss=', history_ln[3][ep-1], \"Accuracy= \",  history_ln[2][ep-1])"
      ],
      "outputs": [
        {
          "output_type": "stream",
          "name": "stdout",
          "text": [
            "EPOCH: 1\n"
          ]
        },
        {
          "output_type": "stream",
          "name": "stderr",
          "text": [
            "Batch_id=937 Loss=1.12056 Accuracy=69.08: 100%|██████████| 938/938 [00:30<00:00, 30.69it/s]\n"
          ]
        },
        {
          "output_type": "stream",
          "name": "stdout",
          "text": [
            "\n",
            "Test set: Average loss: 0.2947, Accuracy: 9319/10000 (93.19%)\n",
            "\n",
            "EPOCH: 2\n"
          ]
        },
        {
          "output_type": "stream",
          "name": "stderr",
          "text": [
            "Batch_id=937 Loss=0.22445 Accuracy=93.61: 100%|██████████| 938/938 [00:31<00:00, 29.75it/s]\n"
          ]
        },
        {
          "output_type": "stream",
          "name": "stdout",
          "text": [
            "\n",
            "Test set: Average loss: 0.1252, Accuracy: 9652/10000 (96.52%)\n",
            "\n",
            "EPOCH: 3\n"
          ]
        },
        {
          "output_type": "stream",
          "name": "stderr",
          "text": [
            "Batch_id=937 Loss=0.14039 Accuracy=95.92: 100%|██████████| 938/938 [00:29<00:00, 31.57it/s]\n"
          ]
        },
        {
          "output_type": "stream",
          "name": "stdout",
          "text": [
            "\n",
            "Test set: Average loss: 0.0951, Accuracy: 9713/10000 (97.13%)\n",
            "\n",
            "EPOCH: 4\n"
          ]
        },
        {
          "output_type": "stream",
          "name": "stderr",
          "text": [
            "Batch_id=937 Loss=0.10689 Accuracy=96.92: 100%|██████████| 938/938 [00:23<00:00, 40.20it/s]\n"
          ]
        },
        {
          "output_type": "stream",
          "name": "stdout",
          "text": [
            "\n",
            "Test set: Average loss: 0.0756, Accuracy: 9796/10000 (97.96%)\n",
            "\n",
            "EPOCH: 5\n"
          ]
        },
        {
          "output_type": "stream",
          "name": "stderr",
          "text": [
            "Batch_id=937 Loss=0.08671 Accuracy=97.50: 100%|██████████| 938/938 [00:23<00:00, 40.67it/s]\n"
          ]
        },
        {
          "output_type": "stream",
          "name": "stdout",
          "text": [
            "\n",
            "Test set: Average loss: 0.0549, Accuracy: 9827/10000 (98.27%)\n",
            "\n",
            "EPOCH: 6\n"
          ]
        },
        {
          "output_type": "stream",
          "name": "stderr",
          "text": [
            "Batch_id=937 Loss=0.07614 Accuracy=97.76: 100%|██████████| 938/938 [00:24<00:00, 38.55it/s]\n"
          ]
        },
        {
          "output_type": "stream",
          "name": "stdout",
          "text": [
            "\n",
            "Test set: Average loss: 0.0525, Accuracy: 9840/10000 (98.40%)\n",
            "\n",
            "EPOCH: 7\n"
          ]
        },
        {
          "output_type": "stream",
          "name": "stderr",
          "text": [
            "Batch_id=937 Loss=0.06691 Accuracy=97.96: 100%|██████████| 938/938 [00:31<00:00, 29.77it/s]\n"
          ]
        },
        {
          "output_type": "stream",
          "name": "stdout",
          "text": [
            "\n",
            "Test set: Average loss: 0.0368, Accuracy: 9893/10000 (98.93%)\n",
            "\n",
            "EPOCH: 8\n"
          ]
        },
        {
          "output_type": "stream",
          "name": "stderr",
          "text": [
            "Batch_id=937 Loss=0.06207 Accuracy=98.17: 100%|██████████| 938/938 [00:27<00:00, 33.93it/s]\n"
          ]
        },
        {
          "output_type": "stream",
          "name": "stdout",
          "text": [
            "\n",
            "Test set: Average loss: 0.0406, Accuracy: 9867/10000 (98.67%)\n",
            "\n",
            "EPOCH: 9\n"
          ]
        },
        {
          "output_type": "stream",
          "name": "stderr",
          "text": [
            "Batch_id=937 Loss=0.05772 Accuracy=98.28: 100%|██████████| 938/938 [00:29<00:00, 31.86it/s]\n"
          ]
        },
        {
          "output_type": "stream",
          "name": "stdout",
          "text": [
            "\n",
            "Test set: Average loss: 0.0317, Accuracy: 9904/10000 (99.04%)\n",
            "\n",
            "EPOCH: 10\n"
          ]
        },
        {
          "output_type": "stream",
          "name": "stderr",
          "text": [
            "Batch_id=937 Loss=0.05118 Accuracy=98.45: 100%|██████████| 938/938 [00:32<00:00, 29.30it/s]\n"
          ]
        },
        {
          "output_type": "stream",
          "name": "stdout",
          "text": [
            "\n",
            "Test set: Average loss: 0.0307, Accuracy: 9909/10000 (99.09%)\n",
            "\n",
            "EPOCH: 11\n"
          ]
        },
        {
          "output_type": "stream",
          "name": "stderr",
          "text": [
            "Batch_id=937 Loss=0.04839 Accuracy=98.59: 100%|██████████| 938/938 [00:23<00:00, 40.25it/s]\n"
          ]
        },
        {
          "output_type": "stream",
          "name": "stdout",
          "text": [
            "\n",
            "Test set: Average loss: 0.0307, Accuracy: 9906/10000 (99.06%)\n",
            "\n",
            "EPOCH: 12\n"
          ]
        },
        {
          "output_type": "stream",
          "name": "stderr",
          "text": [
            "Batch_id=937 Loss=0.04673 Accuracy=98.61: 100%|██████████| 938/938 [00:23<00:00, 39.72it/s]\n"
          ]
        },
        {
          "output_type": "stream",
          "name": "stdout",
          "text": [
            "\n",
            "Test set: Average loss: 0.0247, Accuracy: 9919/10000 (99.19%)\n",
            "\n",
            "EPOCH: 13\n"
          ]
        },
        {
          "output_type": "stream",
          "name": "stderr",
          "text": [
            "Batch_id=937 Loss=0.04363 Accuracy=98.69: 100%|██████████| 938/938 [00:23<00:00, 40.23it/s]\n"
          ]
        },
        {
          "output_type": "stream",
          "name": "stdout",
          "text": [
            "\n",
            "Test set: Average loss: 0.0261, Accuracy: 9921/10000 (99.21%)\n",
            "\n",
            "EPOCH: 14\n"
          ]
        },
        {
          "output_type": "stream",
          "name": "stderr",
          "text": [
            "Batch_id=937 Loss=0.04114 Accuracy=98.72: 100%|██████████| 938/938 [00:23<00:00, 40.03it/s]\n"
          ]
        },
        {
          "output_type": "stream",
          "name": "stdout",
          "text": [
            "\n",
            "Test set: Average loss: 0.0216, Accuracy: 9938/10000 (99.38%)\n",
            "\n",
            "EPOCH: 15\n"
          ]
        },
        {
          "output_type": "stream",
          "name": "stderr",
          "text": [
            "Batch_id=937 Loss=0.03930 Accuracy=98.84: 100%|██████████| 938/938 [00:23<00:00, 39.71it/s]\n"
          ]
        },
        {
          "output_type": "stream",
          "name": "stdout",
          "text": [
            "\n",
            "Test set: Average loss: 0.0240, Accuracy: 9927/10000 (99.27%)\n",
            "\n",
            "EPOCH: 16\n"
          ]
        },
        {
          "output_type": "stream",
          "name": "stderr",
          "text": [
            "Batch_id=937 Loss=0.03710 Accuracy=98.91: 100%|██████████| 938/938 [00:23<00:00, 40.26it/s]\n"
          ]
        },
        {
          "output_type": "stream",
          "name": "stdout",
          "text": [
            "\n",
            "Test set: Average loss: 0.0257, Accuracy: 9927/10000 (99.27%)\n",
            "\n",
            "EPOCH: 17\n"
          ]
        },
        {
          "output_type": "stream",
          "name": "stderr",
          "text": [
            "Batch_id=937 Loss=0.03569 Accuracy=98.90: 100%|██████████| 938/938 [00:23<00:00, 39.82it/s]\n"
          ]
        },
        {
          "output_type": "stream",
          "name": "stdout",
          "text": [
            "\n",
            "Test set: Average loss: 0.0285, Accuracy: 9914/10000 (99.14%)\n",
            "\n",
            "EPOCH: 18\n"
          ]
        },
        {
          "output_type": "stream",
          "name": "stderr",
          "text": [
            "Batch_id=937 Loss=0.03387 Accuracy=99.00: 100%|██████████| 938/938 [00:23<00:00, 39.97it/s]\n"
          ]
        },
        {
          "output_type": "stream",
          "name": "stdout",
          "text": [
            "\n",
            "Test set: Average loss: 0.0226, Accuracy: 9927/10000 (99.27%)\n",
            "\n",
            "EPOCH: 19\n"
          ]
        },
        {
          "output_type": "stream",
          "name": "stderr",
          "text": [
            "Batch_id=937 Loss=0.03028 Accuracy=99.12: 100%|██████████| 938/938 [00:23<00:00, 39.93it/s]\n"
          ]
        },
        {
          "output_type": "stream",
          "name": "stdout",
          "text": [
            "\n",
            "Test set: Average loss: 0.0209, Accuracy: 9938/10000 (99.38%)\n",
            "\n",
            "EPOCH: 20\n"
          ]
        },
        {
          "output_type": "stream",
          "name": "stderr",
          "text": [
            "Batch_id=937 Loss=0.02709 Accuracy=99.19: 100%|██████████| 938/938 [00:23<00:00, 39.38it/s]\n"
          ]
        },
        {
          "output_type": "stream",
          "name": "stdout",
          "text": [
            "\n",
            "Test set: Average loss: 0.0193, Accuracy: 9937/10000 (99.37%)\n",
            "\n",
            "EPOCH: 21\n"
          ]
        },
        {
          "output_type": "stream",
          "name": "stderr",
          "text": [
            "Batch_id=937 Loss=0.02564 Accuracy=99.24: 100%|██████████| 938/938 [00:23<00:00, 39.40it/s]\n"
          ]
        },
        {
          "output_type": "stream",
          "name": "stdout",
          "text": [
            "\n",
            "Test set: Average loss: 0.0207, Accuracy: 9943/10000 (99.43%)\n",
            "\n",
            "EPOCH: 22\n"
          ]
        },
        {
          "output_type": "stream",
          "name": "stderr",
          "text": [
            "Batch_id=937 Loss=0.02326 Accuracy=99.28: 100%|██████████| 938/938 [00:25<00:00, 36.55it/s]\n"
          ]
        },
        {
          "output_type": "stream",
          "name": "stdout",
          "text": [
            "\n",
            "Test set: Average loss: 0.0184, Accuracy: 9950/10000 (99.50%)\n",
            "\n",
            "EPOCH: 23\n"
          ]
        },
        {
          "output_type": "stream",
          "name": "stderr",
          "text": [
            "Batch_id=937 Loss=0.01969 Accuracy=99.39: 100%|██████████| 938/938 [00:23<00:00, 39.70it/s]\n"
          ]
        },
        {
          "output_type": "stream",
          "name": "stdout",
          "text": [
            "\n",
            "Test set: Average loss: 0.0190, Accuracy: 9945/10000 (99.45%)\n",
            "\n",
            "EPOCH: 24\n"
          ]
        },
        {
          "output_type": "stream",
          "name": "stderr",
          "text": [
            "Batch_id=937 Loss=0.02005 Accuracy=99.41: 100%|██████████| 938/938 [00:23<00:00, 39.68it/s]\n"
          ]
        },
        {
          "output_type": "stream",
          "name": "stdout",
          "text": [
            "\n",
            "Test set: Average loss: 0.0190, Accuracy: 9943/10000 (99.43%)\n",
            "\n",
            "EPOCH: 25\n"
          ]
        },
        {
          "output_type": "stream",
          "name": "stderr",
          "text": [
            "Batch_id=937 Loss=0.01918 Accuracy=99.42: 100%|██████████| 938/938 [00:26<00:00, 35.14it/s]\n"
          ]
        },
        {
          "output_type": "stream",
          "name": "stdout",
          "text": [
            "\n",
            "Test set: Average loss: 0.0185, Accuracy: 9942/10000 (99.42%)\n",
            "\n",
            "Best Model loss= 0.018405990533204748 Accuracy=  99.5\n"
          ]
        }
      ],
      "metadata": {
        "id": "QoVL9w_xBhQN",
        "colab": {
          "base_uri": "https://localhost:8080/"
        },
        "outputId": "430c0d2c-a27a-43e2-d078-263ba832c93c"
      }
    },
    {
      "cell_type": "markdown",
      "source": [
        "# Model Version 3: \n",
        "Network with L1 + L2 + BN"
      ],
      "metadata": {
        "id": "B-2mYyiyDf0Z"
      }
    },
    {
      "cell_type": "code",
      "execution_count": 13,
      "source": [
        "exp_name = 'model_BN+L1+L2'\r\n",
        "model_bn, history_bn = fit(norm='bn', NUM_EPOCHS=25, l1=True, l2=True, exp_name=exp_name)\r\n",
        "\r\n",
        "#Load the best model for further evalution\r\n",
        "model_bn = model.Net(norm='bn').to(device)\r\n",
        "model_bn.load_state_dict(torch.load(exp_name+'.pt')['state_dict'])\r\n",
        "ep = torch.load(exp_name+'.pt')['epoch']\r\n",
        "print('Best Model loss=', history_bn[3][ep-1], \"Accuracy= \",  history_bn[2][ep-1])"
      ],
      "outputs": [
        {
          "output_type": "stream",
          "name": "stdout",
          "text": [
            "EPOCH: 1\n"
          ]
        },
        {
          "output_type": "stream",
          "name": "stderr",
          "text": [
            "Batch_id=937 Loss=0.84193 Accuracy=80.39: 100%|██████████| 938/938 [00:24<00:00, 38.36it/s]\n"
          ]
        },
        {
          "output_type": "stream",
          "name": "stdout",
          "text": [
            "\n",
            "Test set: Average loss: 0.1482, Accuracy: 9697/10000 (96.97%)\n",
            "\n",
            "EPOCH: 2\n"
          ]
        },
        {
          "output_type": "stream",
          "name": "stderr",
          "text": [
            "Batch_id=937 Loss=0.14730 Accuracy=96.46: 100%|██████████| 938/938 [00:25<00:00, 36.96it/s]\n"
          ]
        },
        {
          "output_type": "stream",
          "name": "stdout",
          "text": [
            "\n",
            "Test set: Average loss: 0.0574, Accuracy: 9841/10000 (98.41%)\n",
            "\n",
            "EPOCH: 3\n"
          ]
        },
        {
          "output_type": "stream",
          "name": "stderr",
          "text": [
            "Batch_id=937 Loss=0.09672 Accuracy=97.29: 100%|██████████| 938/938 [00:25<00:00, 37.22it/s]\n"
          ]
        },
        {
          "output_type": "stream",
          "name": "stdout",
          "text": [
            "\n",
            "Test set: Average loss: 0.0440, Accuracy: 9870/10000 (98.70%)\n",
            "\n",
            "EPOCH: 4\n"
          ]
        },
        {
          "output_type": "stream",
          "name": "stderr",
          "text": [
            "Batch_id=937 Loss=0.07755 Accuracy=97.80: 100%|██████████| 938/938 [00:26<00:00, 35.75it/s]\n"
          ]
        },
        {
          "output_type": "stream",
          "name": "stdout",
          "text": [
            "\n",
            "Test set: Average loss: 0.0507, Accuracy: 9850/10000 (98.50%)\n",
            "\n",
            "EPOCH: 5\n"
          ]
        },
        {
          "output_type": "stream",
          "name": "stderr",
          "text": [
            "Batch_id=937 Loss=0.06773 Accuracy=97.97: 100%|██████████| 938/938 [00:25<00:00, 36.34it/s]\n"
          ]
        },
        {
          "output_type": "stream",
          "name": "stdout",
          "text": [
            "\n",
            "Test set: Average loss: 0.0367, Accuracy: 9897/10000 (98.97%)\n",
            "\n",
            "EPOCH: 6\n"
          ]
        },
        {
          "output_type": "stream",
          "name": "stderr",
          "text": [
            "Batch_id=937 Loss=0.05968 Accuracy=98.18: 100%|██████████| 938/938 [00:25<00:00, 37.06it/s]\n"
          ]
        },
        {
          "output_type": "stream",
          "name": "stdout",
          "text": [
            "\n",
            "Test set: Average loss: 0.0325, Accuracy: 9901/10000 (99.01%)\n",
            "\n",
            "EPOCH: 7\n"
          ]
        },
        {
          "output_type": "stream",
          "name": "stderr",
          "text": [
            "Batch_id=937 Loss=0.05593 Accuracy=98.28: 100%|██████████| 938/938 [00:25<00:00, 37.34it/s]\n"
          ]
        },
        {
          "output_type": "stream",
          "name": "stdout",
          "text": [
            "\n",
            "Test set: Average loss: 0.0309, Accuracy: 9896/10000 (98.96%)\n",
            "\n",
            "EPOCH: 8\n"
          ]
        },
        {
          "output_type": "stream",
          "name": "stderr",
          "text": [
            "Batch_id=937 Loss=0.05065 Accuracy=98.47: 100%|██████████| 938/938 [00:25<00:00, 36.61it/s]\n"
          ]
        },
        {
          "output_type": "stream",
          "name": "stdout",
          "text": [
            "\n",
            "Test set: Average loss: 0.0331, Accuracy: 9903/10000 (99.03%)\n",
            "\n",
            "EPOCH: 9\n"
          ]
        },
        {
          "output_type": "stream",
          "name": "stderr",
          "text": [
            "Batch_id=937 Loss=0.04627 Accuracy=98.59: 100%|██████████| 938/938 [00:25<00:00, 36.56it/s]\n"
          ]
        },
        {
          "output_type": "stream",
          "name": "stdout",
          "text": [
            "\n",
            "Test set: Average loss: 0.0261, Accuracy: 9916/10000 (99.16%)\n",
            "\n",
            "EPOCH: 10\n"
          ]
        },
        {
          "output_type": "stream",
          "name": "stderr",
          "text": [
            "Batch_id=937 Loss=0.04501 Accuracy=98.64: 100%|██████████| 938/938 [00:25<00:00, 36.90it/s]\n"
          ]
        },
        {
          "output_type": "stream",
          "name": "stdout",
          "text": [
            "\n",
            "Test set: Average loss: 0.0239, Accuracy: 9928/10000 (99.28%)\n",
            "\n",
            "EPOCH: 11\n"
          ]
        },
        {
          "output_type": "stream",
          "name": "stderr",
          "text": [
            "Batch_id=937 Loss=0.04066 Accuracy=98.75: 100%|██████████| 938/938 [00:26<00:00, 36.07it/s]\n"
          ]
        },
        {
          "output_type": "stream",
          "name": "stdout",
          "text": [
            "\n",
            "Test set: Average loss: 0.0284, Accuracy: 9913/10000 (99.13%)\n",
            "\n",
            "EPOCH: 12\n"
          ]
        },
        {
          "output_type": "stream",
          "name": "stderr",
          "text": [
            "Batch_id=937 Loss=0.03933 Accuracy=98.81: 100%|██████████| 938/938 [00:25<00:00, 36.66it/s]\n"
          ]
        },
        {
          "output_type": "stream",
          "name": "stdout",
          "text": [
            "\n",
            "Test set: Average loss: 0.0218, Accuracy: 9940/10000 (99.40%)\n",
            "\n",
            "EPOCH: 13\n"
          ]
        },
        {
          "output_type": "stream",
          "name": "stderr",
          "text": [
            "Batch_id=937 Loss=0.03698 Accuracy=98.88: 100%|██████████| 938/938 [00:25<00:00, 36.42it/s]\n"
          ]
        },
        {
          "output_type": "stream",
          "name": "stdout",
          "text": [
            "\n",
            "Test set: Average loss: 0.0252, Accuracy: 9925/10000 (99.25%)\n",
            "\n",
            "EPOCH: 14\n"
          ]
        },
        {
          "output_type": "stream",
          "name": "stderr",
          "text": [
            "Batch_id=937 Loss=0.03400 Accuracy=98.94: 100%|██████████| 938/938 [00:25<00:00, 37.06it/s]\n"
          ]
        },
        {
          "output_type": "stream",
          "name": "stdout",
          "text": [
            "\n",
            "Test set: Average loss: 0.0205, Accuracy: 9936/10000 (99.36%)\n",
            "\n",
            "EPOCH: 15\n"
          ]
        },
        {
          "output_type": "stream",
          "name": "stderr",
          "text": [
            "Batch_id=937 Loss=0.03411 Accuracy=98.93: 100%|██████████| 938/938 [00:26<00:00, 35.39it/s]\n"
          ]
        },
        {
          "output_type": "stream",
          "name": "stdout",
          "text": [
            "\n",
            "Test set: Average loss: 0.0207, Accuracy: 9931/10000 (99.31%)\n",
            "\n",
            "EPOCH: 16\n"
          ]
        },
        {
          "output_type": "stream",
          "name": "stderr",
          "text": [
            "Batch_id=937 Loss=0.03291 Accuracy=98.99: 100%|██████████| 938/938 [00:27<00:00, 34.28it/s]\n"
          ]
        },
        {
          "output_type": "stream",
          "name": "stdout",
          "text": [
            "\n",
            "Test set: Average loss: 0.0182, Accuracy: 9946/10000 (99.46%)\n",
            "\n",
            "EPOCH: 17\n"
          ]
        },
        {
          "output_type": "stream",
          "name": "stderr",
          "text": [
            "Batch_id=937 Loss=0.03130 Accuracy=99.03: 100%|██████████| 938/938 [00:25<00:00, 36.94it/s]\n"
          ]
        },
        {
          "output_type": "stream",
          "name": "stdout",
          "text": [
            "\n",
            "Test set: Average loss: 0.0181, Accuracy: 9938/10000 (99.38%)\n",
            "\n",
            "EPOCH: 18\n"
          ]
        },
        {
          "output_type": "stream",
          "name": "stderr",
          "text": [
            "Batch_id=937 Loss=0.03026 Accuracy=99.07: 100%|██████████| 938/938 [00:25<00:00, 36.57it/s]\n"
          ]
        },
        {
          "output_type": "stream",
          "name": "stdout",
          "text": [
            "\n",
            "Test set: Average loss: 0.0171, Accuracy: 9945/10000 (99.45%)\n",
            "\n",
            "EPOCH: 19\n"
          ]
        },
        {
          "output_type": "stream",
          "name": "stderr",
          "text": [
            "Batch_id=937 Loss=0.02837 Accuracy=99.14: 100%|██████████| 938/938 [00:25<00:00, 36.72it/s]\n"
          ]
        },
        {
          "output_type": "stream",
          "name": "stdout",
          "text": [
            "\n",
            "Test set: Average loss: 0.0174, Accuracy: 9949/10000 (99.49%)\n",
            "\n",
            "EPOCH: 20\n"
          ]
        },
        {
          "output_type": "stream",
          "name": "stderr",
          "text": [
            "Batch_id=937 Loss=0.02723 Accuracy=99.19: 100%|██████████| 938/938 [00:25<00:00, 36.76it/s]\n"
          ]
        },
        {
          "output_type": "stream",
          "name": "stdout",
          "text": [
            "\n",
            "Test set: Average loss: 0.0171, Accuracy: 9950/10000 (99.50%)\n",
            "\n",
            "EPOCH: 21\n"
          ]
        },
        {
          "output_type": "stream",
          "name": "stderr",
          "text": [
            "Batch_id=937 Loss=0.02472 Accuracy=99.24: 100%|██████████| 938/938 [00:25<00:00, 36.70it/s]\n"
          ]
        },
        {
          "output_type": "stream",
          "name": "stdout",
          "text": [
            "\n",
            "Test set: Average loss: 0.0174, Accuracy: 9955/10000 (99.55%)\n",
            "\n",
            "EPOCH: 22\n"
          ]
        },
        {
          "output_type": "stream",
          "name": "stderr",
          "text": [
            "Batch_id=937 Loss=0.02380 Accuracy=99.28: 100%|██████████| 938/938 [00:25<00:00, 36.39it/s]\n"
          ]
        },
        {
          "output_type": "stream",
          "name": "stdout",
          "text": [
            "\n",
            "Test set: Average loss: 0.0166, Accuracy: 9953/10000 (99.53%)\n",
            "\n",
            "EPOCH: 23\n"
          ]
        },
        {
          "output_type": "stream",
          "name": "stderr",
          "text": [
            "Batch_id=937 Loss=0.02164 Accuracy=99.39: 100%|██████████| 938/938 [00:26<00:00, 35.78it/s]\n"
          ]
        },
        {
          "output_type": "stream",
          "name": "stdout",
          "text": [
            "\n",
            "Test set: Average loss: 0.0164, Accuracy: 9953/10000 (99.53%)\n",
            "\n",
            "EPOCH: 24\n"
          ]
        },
        {
          "output_type": "stream",
          "name": "stderr",
          "text": [
            "Batch_id=937 Loss=0.02156 Accuracy=99.37: 100%|██████████| 938/938 [00:26<00:00, 35.57it/s]\n"
          ]
        },
        {
          "output_type": "stream",
          "name": "stdout",
          "text": [
            "\n",
            "Test set: Average loss: 0.0157, Accuracy: 9953/10000 (99.53%)\n",
            "\n",
            "EPOCH: 25\n"
          ]
        },
        {
          "output_type": "stream",
          "name": "stderr",
          "text": [
            "Batch_id=937 Loss=0.01940 Accuracy=99.39: 100%|██████████| 938/938 [00:24<00:00, 38.37it/s]\n"
          ]
        },
        {
          "output_type": "stream",
          "name": "stdout",
          "text": [
            "\n",
            "Test set: Average loss: 0.0157, Accuracy: 9954/10000 (99.54%)\n",
            "\n",
            "Best Model loss= 0.017350309442903382 Accuracy=  99.55\n"
          ]
        }
      ],
      "metadata": {
        "id": "LidlWRoTBkDk",
        "colab": {
          "base_uri": "https://localhost:8080/"
        },
        "outputId": "8cee3c24-4ec4-4b70-dab3-31c2e701a838"
      }
    },
    {
      "cell_type": "code",
      "execution_count": 14,
      "source": [
        "fig, axs = plt.subplots(2,2,figsize=(15,10))\r\n",
        "axs[0,0].set_title('Training LOSS of Three Models')\r\n",
        "axs[0,0].plot(history_gn[1], label='Group Norm + L1')\r\n",
        "axs[0,0].plot(history_ln[1], label='Layer Norm + L2')\r\n",
        "axs[0,0].plot(history_bn[1], label='Batch Norm + L1 + L2')\r\n",
        "axs[0,0].legend()\r\n",
        "axs[0,0].grid()\r\n",
        "\r\n",
        "axs[0,1].set_title('Valid LOSS of Three Models')\r\n",
        "axs[0,1].plot(history_gn[3], label='Group Norm + L1')\r\n",
        "axs[0,1].plot(history_ln[3], label='Layer Norm + L2')\r\n",
        "axs[0,1].plot(history_bn[3], label='Batch Norm + L1 + L2')\r\n",
        "axs[0,1].legend()\r\n",
        "axs[0,1].grid()\r\n",
        "\r\n",
        "axs[1,0].set_title('Training ACCURACY of Three Models')\r\n",
        "axs[1,0].plot(history_gn[0], label='Group Norm + L1')\r\n",
        "axs[1,0].plot(history_ln[0], label='Layer Norm + L2')\r\n",
        "axs[1,0].plot(history_bn[0], label='Batch Norm + L1 + L2')\r\n",
        "axs[1,0].legend()\r\n",
        "axs[1,0].grid()\r\n",
        "\r\n",
        "axs[1,1].set_title('Valid ACCURACY of Three Models')\r\n",
        "axs[1,1].plot(history_gn[2], label='Group Norm + L1')\r\n",
        "axs[1,1].plot(history_ln[2], label='Layer Norm + L2')\r\n",
        "axs[1,1].plot(history_bn[2], label='Batch Norm + L1 + L2')\r\n",
        "axs[1,1].legend()\r\n",
        "axs[1,1].grid()\r\n",
        "plt.show()"
      ],
      "outputs": [
        {
          "output_type": "display_data",
          "data": {
            "image/png": "[encoded data removed]",
            "text/plain": [
              "<Figure size 1080x720 with 4 Axes>"
            ]
          },
          "metadata": {
            "needs_background": "light"
          }
        }
      ],
      "metadata": {
        "id": "eYBvW8-WUYWS",
        "colab": {
          "base_uri": "https://localhost:8080/",
          "height": 1000
        },
        "outputId": "a00f697f-d8a9-4027-ff77-54481f977a12"
      }
    },
    {
      "cell_type": "code",
      "execution_count": 15,
      "source": [
        "def plot_misclassified(model, test_loader, norm_name):\r\n",
        "  count = 0\r\n",
        "  k = 0\r\n",
        "  misclf = list()\r\n",
        "  while count<=20:\r\n",
        "    img, label = test_loader.dataset[k]\r\n",
        "    pred = model(img.unsqueeze(0).to(device)) # Prediction\r\n",
        "    pred = pred.argmax().item()\r\n",
        "\r\n",
        "    k += 1\r\n",
        "    if pred!=label:\r\n",
        "      misclf.append((img, label, pred))\r\n",
        "      count += 1\r\n",
        "  \r\n",
        "  rows, cols = 5,4\r\n",
        "  figure = plt.figure(figsize=(10,14))\r\n",
        "\r\n",
        "  for i in range(1, cols * rows + 1):\r\n",
        "    img, label, pred = misclf[i-1]\r\n",
        "\r\n",
        "    figure.add_subplot(rows, cols, i) # adding sub plot\r\n",
        "    plt.suptitle(norm_name, fontsize=10)\r\n",
        "    plt.title(f\"Predcited label {pred}\\n True Label: {label}\") # title of plot\r\n",
        "    plt.axis(\"off\") # hiding the axis\r\n",
        "    plt.imshow(img.squeeze(), cmap=\"gray\") # showing the plot\r\n",
        "\r\n",
        "  plt.show()"
      ],
      "outputs": [],
      "metadata": {
        "id": "AvE0_doaEOIk"
      }
    },
    {
      "cell_type": "code",
      "execution_count": 16,
      "source": [
        "plot_misclassified(model_gn, test_loader, 'Group Normalization + L1')"
      ],
      "outputs": [
        {
          "output_type": "display_data",
          "data": {
            "image/png": "[encoded data removed]",
            "text/plain": [
              "<Figure size 720x1008 with 20 Axes>"
            ]
          },
          "metadata": {
            "needs_background": "light"
          }
        }
      ],
      "metadata": {
        "id": "_aiPjUoiNRuG",
        "colab": {
          "base_uri": "https://localhost:8080/",
          "height": 1000
        },
        "outputId": "1e98b96f-bac4-4d26-804d-3b3266f1b616"
      }
    },
    {
      "cell_type": "code",
      "execution_count": 17,
      "source": [
        "plot_misclassified(model_ln, test_loader, 'Layer Normalization + L2')"
      ],
      "outputs": [
        {
          "output_type": "display_data",
          "data": {
            "image/png": "[encoded data removed]",
            "text/plain": [
              "<Figure size 720x1008 with 20 Axes>"
            ]
          },
          "metadata": {
            "needs_background": "light"
          }
        }
      ],
      "metadata": {
        "id": "AZvZQGycRqz4",
        "colab": {
          "base_uri": "https://localhost:8080/",
          "height": 1000
        },
        "outputId": "ff954d9c-2599-4fd7-ef78-028b4f4bc7b9"
      }
    },
    {
      "cell_type": "code",
      "execution_count": 18,
      "source": [
        "plot_misclassified(model_bn, test_loader, 'Batch Normalization + L1 + L2')"
      ],
      "outputs": [
        {
          "output_type": "error",
          "ename": "ValueError",
          "evalue": "Expected more than 1 value per channel when training, got input size torch.Size([1, 16, 1, 1])",
          "traceback": [
            "\u001b[1;31m---------------------------------------------------------------------------\u001b[0m",
            "\u001b[1;31mValueError\u001b[0m                                Traceback (most recent call last)",
            "\u001b[1;32m<ipython-input-18-8bbcb61567ef>\u001b[0m in \u001b[0;36m<module>\u001b[1;34m\u001b[0m\n\u001b[1;32m----> 1\u001b[1;33m \u001b[0mplot_misclassified\u001b[0m\u001b[1;33m(\u001b[0m\u001b[0mmodel_bn\u001b[0m\u001b[1;33m,\u001b[0m \u001b[0mtest_loader\u001b[0m\u001b[1;33m,\u001b[0m \u001b[1;34m'Batch Normalization + L1 + L2'\u001b[0m\u001b[1;33m)\u001b[0m\u001b[1;33m\u001b[0m\u001b[1;33m\u001b[0m\u001b[0m\n\u001b[0m",
            "\u001b[1;32m<ipython-input-15-c5eece74bc76>\u001b[0m in \u001b[0;36mplot_misclassified\u001b[1;34m(model, test_loader, norm_name)\u001b[0m\n\u001b[0;32m      5\u001b[0m   \u001b[1;32mwhile\u001b[0m \u001b[0mcount\u001b[0m\u001b[1;33m<=\u001b[0m\u001b[1;36m20\u001b[0m\u001b[1;33m:\u001b[0m\u001b[1;33m\u001b[0m\u001b[1;33m\u001b[0m\u001b[0m\n\u001b[0;32m      6\u001b[0m     \u001b[0mimg\u001b[0m\u001b[1;33m,\u001b[0m \u001b[0mlabel\u001b[0m \u001b[1;33m=\u001b[0m \u001b[0mtest_loader\u001b[0m\u001b[1;33m.\u001b[0m\u001b[0mdataset\u001b[0m\u001b[1;33m[\u001b[0m\u001b[0mk\u001b[0m\u001b[1;33m]\u001b[0m\u001b[1;33m\u001b[0m\u001b[1;33m\u001b[0m\u001b[0m\n\u001b[1;32m----> 7\u001b[1;33m     \u001b[0mpred\u001b[0m \u001b[1;33m=\u001b[0m \u001b[0mmodel\u001b[0m\u001b[1;33m(\u001b[0m\u001b[0mimg\u001b[0m\u001b[1;33m.\u001b[0m\u001b[0munsqueeze\u001b[0m\u001b[1;33m(\u001b[0m\u001b[1;36m0\u001b[0m\u001b[1;33m)\u001b[0m\u001b[1;33m.\u001b[0m\u001b[0mto\u001b[0m\u001b[1;33m(\u001b[0m\u001b[0mdevice\u001b[0m\u001b[1;33m)\u001b[0m\u001b[1;33m)\u001b[0m \u001b[1;31m# Prediction\u001b[0m\u001b[1;33m\u001b[0m\u001b[1;33m\u001b[0m\u001b[0m\n\u001b[0m\u001b[0;32m      8\u001b[0m     \u001b[0mpred\u001b[0m \u001b[1;33m=\u001b[0m \u001b[0mpred\u001b[0m\u001b[1;33m.\u001b[0m\u001b[0margmax\u001b[0m\u001b[1;33m(\u001b[0m\u001b[1;33m)\u001b[0m\u001b[1;33m.\u001b[0m\u001b[0mitem\u001b[0m\u001b[1;33m(\u001b[0m\u001b[1;33m)\u001b[0m\u001b[1;33m\u001b[0m\u001b[1;33m\u001b[0m\u001b[0m\n\u001b[0;32m      9\u001b[0m \u001b[1;33m\u001b[0m\u001b[0m\n",
            "\u001b[1;32m~\\anaconda3\\envs\\gputest\\lib\\site-packages\\torch\\nn\\modules\\module.py\u001b[0m in \u001b[0;36m_call_impl\u001b[1;34m(self, *input, **kwargs)\u001b[0m\n\u001b[0;32m    725\u001b[0m             \u001b[0mresult\u001b[0m \u001b[1;33m=\u001b[0m \u001b[0mself\u001b[0m\u001b[1;33m.\u001b[0m\u001b[0m_slow_forward\u001b[0m\u001b[1;33m(\u001b[0m\u001b[1;33m*\u001b[0m\u001b[0minput\u001b[0m\u001b[1;33m,\u001b[0m \u001b[1;33m**\u001b[0m\u001b[0mkwargs\u001b[0m\u001b[1;33m)\u001b[0m\u001b[1;33m\u001b[0m\u001b[1;33m\u001b[0m\u001b[0m\n\u001b[0;32m    726\u001b[0m         \u001b[1;32melse\u001b[0m\u001b[1;33m:\u001b[0m\u001b[1;33m\u001b[0m\u001b[1;33m\u001b[0m\u001b[0m\n\u001b[1;32m--> 727\u001b[1;33m             \u001b[0mresult\u001b[0m \u001b[1;33m=\u001b[0m \u001b[0mself\u001b[0m\u001b[1;33m.\u001b[0m\u001b[0mforward\u001b[0m\u001b[1;33m(\u001b[0m\u001b[1;33m*\u001b[0m\u001b[0minput\u001b[0m\u001b[1;33m,\u001b[0m \u001b[1;33m**\u001b[0m\u001b[0mkwargs\u001b[0m\u001b[1;33m)\u001b[0m\u001b[1;33m\u001b[0m\u001b[1;33m\u001b[0m\u001b[0m\n\u001b[0m\u001b[0;32m    728\u001b[0m         for hook in itertools.chain(\n\u001b[0;32m    729\u001b[0m                 \u001b[0m_global_forward_hooks\u001b[0m\u001b[1;33m.\u001b[0m\u001b[0mvalues\u001b[0m\u001b[1;33m(\u001b[0m\u001b[1;33m)\u001b[0m\u001b[1;33m,\u001b[0m\u001b[1;33m\u001b[0m\u001b[1;33m\u001b[0m\u001b[0m\n",
            "\u001b[1;32md:\\Packt\\MNIST_normalization\\model.py\u001b[0m in \u001b[0;36mforward\u001b[1;34m(self, x)\u001b[0m\n\u001b[0;32m     89\u001b[0m         \u001b[0mx\u001b[0m \u001b[1;33m=\u001b[0m \u001b[0mself\u001b[0m\u001b[1;33m.\u001b[0m\u001b[0mconvblock3\u001b[0m\u001b[1;33m(\u001b[0m\u001b[0mx\u001b[0m\u001b[1;33m)\u001b[0m\u001b[1;33m\u001b[0m\u001b[1;33m\u001b[0m\u001b[0m\n\u001b[0;32m     90\u001b[0m         \u001b[0mx\u001b[0m \u001b[1;33m=\u001b[0m \u001b[0mself\u001b[0m\u001b[1;33m.\u001b[0m\u001b[0mgap\u001b[0m\u001b[1;33m(\u001b[0m\u001b[0mx\u001b[0m\u001b[1;33m)\u001b[0m\u001b[1;33m\u001b[0m\u001b[1;33m\u001b[0m\u001b[0m\n\u001b[1;32m---> 91\u001b[1;33m         \u001b[0mx\u001b[0m \u001b[1;33m=\u001b[0m \u001b[0mself\u001b[0m\u001b[1;33m.\u001b[0m\u001b[0mconvblock5\u001b[0m\u001b[1;33m(\u001b[0m\u001b[0mx\u001b[0m\u001b[1;33m)\u001b[0m\u001b[1;33m\u001b[0m\u001b[1;33m\u001b[0m\u001b[0m\n\u001b[0m\u001b[0;32m     92\u001b[0m         \u001b[0mx\u001b[0m \u001b[1;33m=\u001b[0m \u001b[0mx\u001b[0m\u001b[1;33m.\u001b[0m\u001b[0mview\u001b[0m\u001b[1;33m(\u001b[0m\u001b[1;33m-\u001b[0m\u001b[1;36m1\u001b[0m\u001b[1;33m,\u001b[0m \u001b[1;36m10\u001b[0m\u001b[1;33m)\u001b[0m   \u001b[1;31m# convert 2D to 1D\u001b[0m\u001b[1;33m\u001b[0m\u001b[1;33m\u001b[0m\u001b[0m\n\u001b[0;32m     93\u001b[0m \u001b[1;33m\u001b[0m\u001b[0m\n",
            "\u001b[1;32m~\\anaconda3\\envs\\gputest\\lib\\site-packages\\torch\\nn\\modules\\module.py\u001b[0m in \u001b[0;36m_call_impl\u001b[1;34m(self, *input, **kwargs)\u001b[0m\n\u001b[0;32m    725\u001b[0m             \u001b[0mresult\u001b[0m \u001b[1;33m=\u001b[0m \u001b[0mself\u001b[0m\u001b[1;33m.\u001b[0m\u001b[0m_slow_forward\u001b[0m\u001b[1;33m(\u001b[0m\u001b[1;33m*\u001b[0m\u001b[0minput\u001b[0m\u001b[1;33m,\u001b[0m \u001b[1;33m**\u001b[0m\u001b[0mkwargs\u001b[0m\u001b[1;33m)\u001b[0m\u001b[1;33m\u001b[0m\u001b[1;33m\u001b[0m\u001b[0m\n\u001b[0;32m    726\u001b[0m         \u001b[1;32melse\u001b[0m\u001b[1;33m:\u001b[0m\u001b[1;33m\u001b[0m\u001b[1;33m\u001b[0m\u001b[0m\n\u001b[1;32m--> 727\u001b[1;33m             \u001b[0mresult\u001b[0m \u001b[1;33m=\u001b[0m \u001b[0mself\u001b[0m\u001b[1;33m.\u001b[0m\u001b[0mforward\u001b[0m\u001b[1;33m(\u001b[0m\u001b[1;33m*\u001b[0m\u001b[0minput\u001b[0m\u001b[1;33m,\u001b[0m \u001b[1;33m**\u001b[0m\u001b[0mkwargs\u001b[0m\u001b[1;33m)\u001b[0m\u001b[1;33m\u001b[0m\u001b[1;33m\u001b[0m\u001b[0m\n\u001b[0m\u001b[0;32m    728\u001b[0m         for hook in itertools.chain(\n\u001b[0;32m    729\u001b[0m                 \u001b[0m_global_forward_hooks\u001b[0m\u001b[1;33m.\u001b[0m\u001b[0mvalues\u001b[0m\u001b[1;33m(\u001b[0m\u001b[1;33m)\u001b[0m\u001b[1;33m,\u001b[0m\u001b[1;33m\u001b[0m\u001b[1;33m\u001b[0m\u001b[0m\n",
            "\u001b[1;32m~\\anaconda3\\envs\\gputest\\lib\\site-packages\\torch\\nn\\modules\\container.py\u001b[0m in \u001b[0;36mforward\u001b[1;34m(self, input)\u001b[0m\n\u001b[0;32m    115\u001b[0m     \u001b[1;32mdef\u001b[0m \u001b[0mforward\u001b[0m\u001b[1;33m(\u001b[0m\u001b[0mself\u001b[0m\u001b[1;33m,\u001b[0m \u001b[0minput\u001b[0m\u001b[1;33m)\u001b[0m\u001b[1;33m:\u001b[0m\u001b[1;33m\u001b[0m\u001b[1;33m\u001b[0m\u001b[0m\n\u001b[0;32m    116\u001b[0m         \u001b[1;32mfor\u001b[0m \u001b[0mmodule\u001b[0m \u001b[1;32min\u001b[0m \u001b[0mself\u001b[0m\u001b[1;33m:\u001b[0m\u001b[1;33m\u001b[0m\u001b[1;33m\u001b[0m\u001b[0m\n\u001b[1;32m--> 117\u001b[1;33m             \u001b[0minput\u001b[0m \u001b[1;33m=\u001b[0m \u001b[0mmodule\u001b[0m\u001b[1;33m(\u001b[0m\u001b[0minput\u001b[0m\u001b[1;33m)\u001b[0m\u001b[1;33m\u001b[0m\u001b[1;33m\u001b[0m\u001b[0m\n\u001b[0m\u001b[0;32m    118\u001b[0m         \u001b[1;32mreturn\u001b[0m \u001b[0minput\u001b[0m\u001b[1;33m\u001b[0m\u001b[1;33m\u001b[0m\u001b[0m\n\u001b[0;32m    119\u001b[0m \u001b[1;33m\u001b[0m\u001b[0m\n",
            "\u001b[1;32m~\\anaconda3\\envs\\gputest\\lib\\site-packages\\torch\\nn\\modules\\module.py\u001b[0m in \u001b[0;36m_call_impl\u001b[1;34m(self, *input, **kwargs)\u001b[0m\n\u001b[0;32m    725\u001b[0m             \u001b[0mresult\u001b[0m \u001b[1;33m=\u001b[0m \u001b[0mself\u001b[0m\u001b[1;33m.\u001b[0m\u001b[0m_slow_forward\u001b[0m\u001b[1;33m(\u001b[0m\u001b[1;33m*\u001b[0m\u001b[0minput\u001b[0m\u001b[1;33m,\u001b[0m \u001b[1;33m**\u001b[0m\u001b[0mkwargs\u001b[0m\u001b[1;33m)\u001b[0m\u001b[1;33m\u001b[0m\u001b[1;33m\u001b[0m\u001b[0m\n\u001b[0;32m    726\u001b[0m         \u001b[1;32melse\u001b[0m\u001b[1;33m:\u001b[0m\u001b[1;33m\u001b[0m\u001b[1;33m\u001b[0m\u001b[0m\n\u001b[1;32m--> 727\u001b[1;33m             \u001b[0mresult\u001b[0m \u001b[1;33m=\u001b[0m \u001b[0mself\u001b[0m\u001b[1;33m.\u001b[0m\u001b[0mforward\u001b[0m\u001b[1;33m(\u001b[0m\u001b[1;33m*\u001b[0m\u001b[0minput\u001b[0m\u001b[1;33m,\u001b[0m \u001b[1;33m**\u001b[0m\u001b[0mkwargs\u001b[0m\u001b[1;33m)\u001b[0m\u001b[1;33m\u001b[0m\u001b[1;33m\u001b[0m\u001b[0m\n\u001b[0m\u001b[0;32m    728\u001b[0m         for hook in itertools.chain(\n\u001b[0;32m    729\u001b[0m                 \u001b[0m_global_forward_hooks\u001b[0m\u001b[1;33m.\u001b[0m\u001b[0mvalues\u001b[0m\u001b[1;33m(\u001b[0m\u001b[1;33m)\u001b[0m\u001b[1;33m,\u001b[0m\u001b[1;33m\u001b[0m\u001b[1;33m\u001b[0m\u001b[0m\n",
            "\u001b[1;32m~\\anaconda3\\envs\\gputest\\lib\\site-packages\\torch\\nn\\modules\\batchnorm.py\u001b[0m in \u001b[0;36mforward\u001b[1;34m(self, input)\u001b[0m\n\u001b[0;32m    134\u001b[0m             \u001b[0mself\u001b[0m\u001b[1;33m.\u001b[0m\u001b[0mrunning_mean\u001b[0m \u001b[1;32mif\u001b[0m \u001b[1;32mnot\u001b[0m \u001b[0mself\u001b[0m\u001b[1;33m.\u001b[0m\u001b[0mtraining\u001b[0m \u001b[1;32mor\u001b[0m \u001b[0mself\u001b[0m\u001b[1;33m.\u001b[0m\u001b[0mtrack_running_stats\u001b[0m \u001b[1;32melse\u001b[0m \u001b[1;32mNone\u001b[0m\u001b[1;33m,\u001b[0m\u001b[1;33m\u001b[0m\u001b[1;33m\u001b[0m\u001b[0m\n\u001b[0;32m    135\u001b[0m             \u001b[0mself\u001b[0m\u001b[1;33m.\u001b[0m\u001b[0mrunning_var\u001b[0m \u001b[1;32mif\u001b[0m \u001b[1;32mnot\u001b[0m \u001b[0mself\u001b[0m\u001b[1;33m.\u001b[0m\u001b[0mtraining\u001b[0m \u001b[1;32mor\u001b[0m \u001b[0mself\u001b[0m\u001b[1;33m.\u001b[0m\u001b[0mtrack_running_stats\u001b[0m \u001b[1;32melse\u001b[0m \u001b[1;32mNone\u001b[0m\u001b[1;33m,\u001b[0m\u001b[1;33m\u001b[0m\u001b[1;33m\u001b[0m\u001b[0m\n\u001b[1;32m--> 136\u001b[1;33m             self.weight, self.bias, bn_training, exponential_average_factor, self.eps)\n\u001b[0m\u001b[0;32m    137\u001b[0m \u001b[1;33m\u001b[0m\u001b[0m\n\u001b[0;32m    138\u001b[0m \u001b[1;33m\u001b[0m\u001b[0m\n",
            "\u001b[1;32m~\\anaconda3\\envs\\gputest\\lib\\site-packages\\torch\\nn\\functional.py\u001b[0m in \u001b[0;36mbatch_norm\u001b[1;34m(input, running_mean, running_var, weight, bias, training, momentum, eps)\u001b[0m\n\u001b[0;32m   2052\u001b[0m                 bias=bias, training=training, momentum=momentum, eps=eps)\n\u001b[0;32m   2053\u001b[0m     \u001b[1;32mif\u001b[0m \u001b[0mtraining\u001b[0m\u001b[1;33m:\u001b[0m\u001b[1;33m\u001b[0m\u001b[1;33m\u001b[0m\u001b[0m\n\u001b[1;32m-> 2054\u001b[1;33m         \u001b[0m_verify_batch_size\u001b[0m\u001b[1;33m(\u001b[0m\u001b[0minput\u001b[0m\u001b[1;33m.\u001b[0m\u001b[0msize\u001b[0m\u001b[1;33m(\u001b[0m\u001b[1;33m)\u001b[0m\u001b[1;33m)\u001b[0m\u001b[1;33m\u001b[0m\u001b[1;33m\u001b[0m\u001b[0m\n\u001b[0m\u001b[0;32m   2055\u001b[0m \u001b[1;33m\u001b[0m\u001b[0m\n\u001b[0;32m   2056\u001b[0m     return torch.batch_norm(\n",
            "\u001b[1;32m~\\anaconda3\\envs\\gputest\\lib\\site-packages\\torch\\nn\\functional.py\u001b[0m in \u001b[0;36m_verify_batch_size\u001b[1;34m(size)\u001b[0m\n\u001b[0;32m   2035\u001b[0m         \u001b[0msize_prods\u001b[0m \u001b[1;33m*=\u001b[0m \u001b[0msize\u001b[0m\u001b[1;33m[\u001b[0m\u001b[0mi\u001b[0m \u001b[1;33m+\u001b[0m \u001b[1;36m2\u001b[0m\u001b[1;33m]\u001b[0m\u001b[1;33m\u001b[0m\u001b[1;33m\u001b[0m\u001b[0m\n\u001b[0;32m   2036\u001b[0m     \u001b[1;32mif\u001b[0m \u001b[0msize_prods\u001b[0m \u001b[1;33m==\u001b[0m \u001b[1;36m1\u001b[0m\u001b[1;33m:\u001b[0m\u001b[1;33m\u001b[0m\u001b[1;33m\u001b[0m\u001b[0m\n\u001b[1;32m-> 2037\u001b[1;33m         \u001b[1;32mraise\u001b[0m \u001b[0mValueError\u001b[0m\u001b[1;33m(\u001b[0m\u001b[1;34m'Expected more than 1 value per channel when training, got input size {}'\u001b[0m\u001b[1;33m.\u001b[0m\u001b[0mformat\u001b[0m\u001b[1;33m(\u001b[0m\u001b[0msize\u001b[0m\u001b[1;33m)\u001b[0m\u001b[1;33m)\u001b[0m\u001b[1;33m\u001b[0m\u001b[1;33m\u001b[0m\u001b[0m\n\u001b[0m\u001b[0;32m   2038\u001b[0m \u001b[1;33m\u001b[0m\u001b[0m\n\u001b[0;32m   2039\u001b[0m \u001b[1;33m\u001b[0m\u001b[0m\n",
            "\u001b[1;31mValueError\u001b[0m: Expected more than 1 value per channel when training, got input size torch.Size([1, 16, 1, 1])"
          ]
        }
      ],
      "metadata": {
        "id": "KQLbszJORxiD",
        "colab": {
          "base_uri": "https://localhost:8080/",
          "height": 1000
        },
        "outputId": "f96ee034-702c-401e-e5d7-ea66a3b48e87"
      }
    },
    {
      "cell_type": "code",
      "execution_count": 19,
      "source": [
        "def error_rate(model, test_loader):\r\n",
        "  model.eval()\r\n",
        "  err_count = 0\r\n",
        "\r\n",
        "  for img, target in test_loader:\r\n",
        "    img, target = img.to(device), target.to(device)\r\n",
        "    output = model(img)\r\n",
        "    pred = output.argmax(dim=1, keepdim=True)  # get the index of the max log-probability\r\n",
        "    err_count += pred.not_equal(target.view_as(pred)).sum().item()\r\n",
        "  \r\n",
        "  return (100. * err_count / len(test_loader.dataset))"
      ],
      "outputs": [],
      "metadata": {
        "id": "hS26PAqVSe6P"
      }
    },
    {
      "cell_type": "code",
      "execution_count": 20,
      "source": [
        "print('Group Norm + L1 \\t |\\t', error_rate(model_gn, test_loader))\r\n",
        "print('Layer Norm + L2 \\t |\\t', error_rate(model_ln, test_loader))\r\n",
        "print('Batch Norm + L1 + L2\\t |\\t', error_rate(model_bn, test_loader))"
      ],
      "outputs": [
        {
          "output_type": "stream",
          "name": "stdout",
          "text": [
            "Group Norm + L1 \t |\t 0.64\n",
            "Layer Norm + L2 \t |\t 0.5\n",
            "Batch Norm + L1 + L2\t |\t 0.45\n"
          ]
        }
      ],
      "metadata": {
        "colab": {
          "base_uri": "https://localhost:8080/"
        },
        "id": "Eoxm621A2_Z3",
        "outputId": "d30a3c89-a3f7-48a9-f175-11feeaf7ee79"
      }
    },
    {
      "cell_type": "code",
      "execution_count": null,
      "source": [],
      "outputs": [],
      "metadata": {
        "id": "L1n4fFr1exzw"
      }
    }
  ]
}